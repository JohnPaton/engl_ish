{
 "cells": [
  {
   "cell_type": "markdown",
   "metadata": {
    "slideshow": {
     "slide_type": "slide"
    }
   },
   "source": [
    "Introduction\n",
    "-----\n"
   ]
  },
  {
   "cell_type": "code",
   "execution_count": 1,
   "metadata": {
    "collapsed": false
   },
   "outputs": [],
   "source": [
    "class JohnPaton():\n",
    "    def __init__(self):\n",
    "        self.name = 'John Paton'\n",
    "        self.job = 'Data Science Consultant'\n",
    "        self.company = 'KPMG'\n",
    "        self.background = 'Theoretical Physics'\n",
    "        self.twitter = '@jd_paton'\n",
    "        self.github = 'johnpaton'\n",
    "        self.slides = 'RISE'\n",
    "        \n",
    "john = JohnPaton()"
   ]
  },
  {
   "cell_type": "code",
   "execution_count": 2,
   "metadata": {
    "collapsed": false,
    "scrolled": true,
    "slideshow": {
     "slide_type": "-"
    }
   },
   "outputs": [
    {
     "name": "stdout",
     "output_type": "stream",
     "text": [
      "@jd_paton\n"
     ]
    }
   ],
   "source": [
    "print(john.twitter)"
   ]
  },
  {
   "cell_type": "markdown",
   "metadata": {
    "slideshow": {
     "slide_type": "skip"
    }
   },
   "source": [
    "[Link to RISE repository](https://github.com/damianavila/RISE)"
   ]
  },
  {
   "cell_type": "markdown",
   "metadata": {
    "slideshow": {
     "slide_type": "slide"
    }
   },
   "source": [
    "The plan\n",
    "----\n",
    "\n",
    "1. Inspiration\n",
    "\n",
    "2. Markov Models\n",
    "\n",
    "    1. Theory\n",
    "    \n",
    "    2. Implementation\n",
    "\n",
    "3. `engl_ish`\n",
    "\n",
    "4. Results\n",
    "\n"
   ]
  },
  {
   "cell_type": "markdown",
   "metadata": {
    "slideshow": {
     "slide_type": "slide"
    }
   },
   "source": [
    "Inspiration\n",
    "===="
   ]
  },
  {
   "cell_type": "code",
   "execution_count": 3,
   "metadata": {
    "collapsed": false,
    "slideshow": {
     "slide_type": "-"
    }
   },
   "outputs": [
    {
     "data": {
      "image/jpeg": "[encoded data removed]",
      "text/html": [
       "\n",
       "        <iframe\n",
       "            width=\"400\"\n",
       "            height=\"300\"\n",
       "            src=\"https://www.youtube.com/embed/Vt4Dfa4fOEY?iv_load_policy=3\"\n",
       "            frameborder=\"0\"\n",
       "            allowfullscreen\n",
       "        ></iframe>\n",
       "        "
      ],
      "text/plain": [
       "<IPython.lib.display.YouTubeVideo at 0x10f2606d8>"
      ]
     },
     "execution_count": 3,
     "metadata": {},
     "output_type": "execute_result"
    }
   ],
   "source": [
    "from IPython.display import YouTubeVideo\n",
    "YouTubeVideo('Vt4Dfa4fOEY', iv_load_policy=3) # turn off annotations"
   ]
  },
  {
   "cell_type": "markdown",
   "metadata": {
    "slideshow": {
     "slide_type": "slide"
    }
   },
   "source": [
    "The plan\n",
    "----\n",
    "\n",
    "1. ~~Inspiration~~ \n",
    "\n",
    "2. Markov Models\n",
    "\n",
    "    1. **Theory**\n",
    "    \n",
    "    2. Implementation\n",
    "\n",
    "3. `engl_ish`\n",
    "\n",
    "4. Results\n",
    "\n"
   ]
  },
  {
   "cell_type": "markdown",
   "metadata": {
    "slideshow": {
     "slide_type": "slide"
    }
   },
   "source": [
    "Markov Models\n",
    "----\n",
    "\n",
    "* Model systems undergoing state changes\n",
    "* Next state depends only on the previous state\n"
   ]
  },
  {
   "cell_type": "code",
   "execution_count": 4,
   "metadata": {
    "collapsed": true,
    "slideshow": {
     "slide_type": "fragment"
    }
   },
   "outputs": [],
   "source": [
    "import pandas as pd"
   ]
  },
  {
   "cell_type": "code",
   "execution_count": 5,
   "metadata": {
    "collapsed": false,
    "slideshow": {
     "slide_type": "-"
    }
   },
   "outputs": [],
   "source": [
    "lights = pd.DataFrame([[0,0,1],[1,0,0],[0,1,0]])\n",
    "lights.columns = ['red','yellow','green']\n",
    "lights.index = ['red','yellow','green']"
   ]
  },
  {
   "cell_type": "code",
   "execution_count": 6,
   "metadata": {
    "collapsed": false,
    "scrolled": true,
    "slideshow": {
     "slide_type": "-"
    }
   },
   "outputs": [
    {
     "data": {
      "text/html": [
       "<div>\n",
       "<table border=\"1\" class=\"dataframe\">\n",
       "  <thead>\n",
       "    <tr style=\"text-align: right;\">\n",
       "      <th></th>\n",
       "      <th>red</th>\n",
       "      <th>yellow</th>\n",
       "      <th>green</th>\n",
       "    </tr>\n",
       "  </thead>\n",
       "  <tbody>\n",
       "    <tr>\n",
       "      <th>red</th>\n",
       "      <td>0</td>\n",
       "      <td>0</td>\n",
       "      <td>1</td>\n",
       "    </tr>\n",
       "    <tr>\n",
       "      <th>yellow</th>\n",
       "      <td>1</td>\n",
       "      <td>0</td>\n",
       "      <td>0</td>\n",
       "    </tr>\n",
       "    <tr>\n",
       "      <th>green</th>\n",
       "      <td>0</td>\n",
       "      <td>1</td>\n",
       "      <td>0</td>\n",
       "    </tr>\n",
       "  </tbody>\n",
       "</table>\n",
       "</div>"
      ],
      "text/plain": [
       "        red  yellow  green\n",
       "red       0       0      1\n",
       "yellow    1       0      0\n",
       "green     0       1      0"
      ]
     },
     "execution_count": 6,
     "metadata": {},
     "output_type": "execute_result"
    }
   ],
   "source": [
    "lights"
   ]
  },
  {
   "cell_type": "markdown",
   "metadata": {
    "slideshow": {
     "slide_type": "slide"
    }
   },
   "source": [
    "Slightly less trivial...\n",
    "----"
   ]
  },
  {
   "cell_type": "code",
   "execution_count": 7,
   "metadata": {
    "collapsed": false,
    "slideshow": {
     "slide_type": "-"
    }
   },
   "outputs": [],
   "source": [
    "import numpy as np\n",
    "baby_states = ['crying','sleeping','laughing','quiet']\n",
    "baby = pd.DataFrame(columns = baby_states, index = baby_states,\n",
    "                   dtype=float)\n",
    "baby.loc['crying']   = [0.4, 0.3, 0.1, 0.2]\n",
    "baby.loc['sleeping'] = [0.6, 0.3, 0.0, 0.1]\n",
    "baby.loc['laughing'] = [0.2, 0.1, 0.4, 0.3]\n",
    "baby.loc['quiet']    = [0.3, 0.4, 0.2, 0.1]"
   ]
  },
  {
   "cell_type": "code",
   "execution_count": 8,
   "metadata": {
    "collapsed": false
   },
   "outputs": [
    {
     "data": {
      "text/html": [
       "<div>\n",
       "<table border=\"1\" class=\"dataframe\">\n",
       "  <thead>\n",
       "    <tr style=\"text-align: right;\">\n",
       "      <th></th>\n",
       "      <th>crying</th>\n",
       "      <th>sleeping</th>\n",
       "      <th>laughing</th>\n",
       "      <th>quiet</th>\n",
       "    </tr>\n",
       "  </thead>\n",
       "  <tbody>\n",
       "    <tr>\n",
       "      <th>crying</th>\n",
       "      <td>0.4</td>\n",
       "      <td>0.3</td>\n",
       "      <td>0.1</td>\n",
       "      <td>0.2</td>\n",
       "    </tr>\n",
       "    <tr>\n",
       "      <th>sleeping</th>\n",
       "      <td>0.6</td>\n",
       "      <td>0.3</td>\n",
       "      <td>0.0</td>\n",
       "      <td>0.1</td>\n",
       "    </tr>\n",
       "    <tr>\n",
       "      <th>laughing</th>\n",
       "      <td>0.2</td>\n",
       "      <td>0.1</td>\n",
       "      <td>0.4</td>\n",
       "      <td>0.3</td>\n",
       "    </tr>\n",
       "    <tr>\n",
       "      <th>quiet</th>\n",
       "      <td>0.3</td>\n",
       "      <td>0.4</td>\n",
       "      <td>0.2</td>\n",
       "      <td>0.1</td>\n",
       "    </tr>\n",
       "  </tbody>\n",
       "</table>\n",
       "</div>"
      ],
      "text/plain": [
       "          crying  sleeping  laughing  quiet\n",
       "crying       0.4       0.3       0.1    0.2\n",
       "sleeping     0.6       0.3       0.0    0.1\n",
       "laughing     0.2       0.1       0.4    0.3\n",
       "quiet        0.3       0.4       0.2    0.1"
      ]
     },
     "execution_count": 8,
     "metadata": {},
     "output_type": "execute_result"
    }
   ],
   "source": [
    "baby"
   ]
  },
  {
   "cell_type": "code",
   "execution_count": 9,
   "metadata": {
    "collapsed": false,
    "scrolled": false,
    "slideshow": {
     "slide_type": "skip"
    }
   },
   "outputs": [],
   "source": [
    "import seaborn as sns\n",
    "import matplotlib.pyplot as plt\n",
    "%matplotlib inline\n",
    "sns.set(font_scale=2)\n",
    "\n",
    "def heatmap(df, size=(8,6), linewidths=1, title='', **kwargs):\n",
    "    fig, ax = plt.subplots(figsize=size)\n",
    "    ax = sns.heatmap(df, linewidths=linewidths, linecolor='k', **kwargs, ax=ax,square=True)\n",
    "    ax.xaxis.set_ticks_position('top'); ax.xaxis.set_label_position('top')\n",
    "    plt.yticks(rotation=0) \n",
    "    if title:\n",
    "        ax.set_title(title+'\\n\\n')\n",
    "    ax.set_ylabel('From'); ax.set_xlabel('To'); plt.yticks(rotation=0) "
   ]
  },
  {
   "cell_type": "code",
   "execution_count": 10,
   "metadata": {
    "collapsed": false,
    "scrolled": false,
    "slideshow": {
     "slide_type": "slide"
    }
   },
   "outputs": [
    {
     "data": {
      "image/png": "[encoded data removed]",
      "text/plain": [
       "<matplotlib.figure.Figure at 0x117bf8710>"
      ]
     },
     "metadata": {},
     "output_type": "display_data"
    }
   ],
   "source": [
    "heatmap(baby, title='Markov Miles')"
   ]
  },
  {
   "cell_type": "code",
   "execution_count": 11,
   "metadata": {
    "collapsed": false,
    "slideshow": {
     "slide_type": "subslide"
    }
   },
   "outputs": [],
   "source": [
    "import time; from IPython import display\n",
    "for i in range(26):\n",
    "    heatmap(np.linalg.matrix_power(baby,i), \n",
    "            title='Markov Miles After {} steps'.format(i), \n",
    "            xticklabels=list(baby.columns), yticklabels=list(baby.index), vmin=0)\n",
    "    display.clear_output(wait=True); display.display(plt.show())\n",
    "    time.sleep(min(i,1) * 5/(i/2+1)**2)\n",
    "display.clear_output() # comment out to leave plot up"
   ]
  },
  {
   "cell_type": "code",
   "execution_count": 12,
   "metadata": {
    "collapsed": false,
    "scrolled": false,
    "slideshow": {
     "slide_type": "subslide"
    }
   },
   "outputs": [],
   "source": [
    "for i in range(51):\n",
    "    heatmap(np.linalg.matrix_power(lights,i), \n",
    "            title='Traffic Lights After {} steps'.format(i), \n",
    "            xticklabels=list(lights.columns),yticklabels=list(lights.index), vmin=0)\n",
    "    display.clear_output(wait=True); display.display(plt.show())\n",
    "    time.sleep(min(i,1) * 5/(i/2+1)**2)\n",
    "display.clear_output() # comment out to leave plot up"
   ]
  },
  {
   "cell_type": "markdown",
   "metadata": {
    "slideshow": {
     "slide_type": "slide"
    }
   },
   "source": [
    "Higher Orders\n",
    "----\n",
    "* So far we've seen 1st order models\n",
    "* Order *n*: next state depends on previous *n* states\n",
    "\n",
    "Question: How to encode this?"
   ]
  },
  {
   "cell_type": "markdown",
   "metadata": {
    "slideshow": {
     "slide_type": "slide"
    }
   },
   "source": [
    "Higher Orders\n",
    "----\n",
    "Answer:\n",
    "* Higher order \"states\" are chains of last *n* lower order states\n",
    "    * Markov baby 1st order states: `crying`, `sleeping`, `laughing`, `quiet`\n",
    "    * Markov baby 2nd order states: `sleeping-sleeping`, `laughing-quiet`, ...\n",
    "* Higher order models *can be* 1st order models of higher order states"
   ]
  },
  {
   "cell_type": "code",
   "execution_count": 13,
   "metadata": {
    "collapsed": false,
    "scrolled": true,
    "slideshow": {
     "slide_type": "skip"
    }
   },
   "outputs": [],
   "source": [
    "baby_states2 = [state1+'-'+state2 for state1 in baby_states for state2 in baby_states]\n",
    "baby_2x2 = pd.DataFrame(index=baby_states2, columns = baby_states2)\n",
    "baby_2x1 = pd.DataFrame(index=baby_states2, columns = baby_states)"
   ]
  },
  {
   "cell_type": "markdown",
   "metadata": {
    "slideshow": {
     "slide_type": "slide"
    }
   },
   "source": [
    "Higher Orders\n",
    "----\n",
    "Encoding options"
   ]
  },
  {
   "cell_type": "code",
   "execution_count": 14,
   "metadata": {
    "collapsed": false,
    "scrolled": true
   },
   "outputs": [
    {
     "data": {
      "text/html": [
       "<div>\n",
       "<table border=\"1\" class=\"dataframe\">\n",
       "  <thead>\n",
       "    <tr style=\"text-align: right;\">\n",
       "      <th></th>\n",
       "      <th>crying-crying</th>\n",
       "      <th>crying-sleeping</th>\n",
       "      <th>crying-laughing</th>\n",
       "      <th>crying-quiet</th>\n",
       "      <th>sleeping-crying</th>\n",
       "      <th>sleeping-sleeping</th>\n",
       "      <th>sleeping-laughing</th>\n",
       "      <th>sleeping-quiet</th>\n",
       "      <th>laughing-crying</th>\n",
       "      <th>laughing-sleeping</th>\n",
       "      <th>laughing-laughing</th>\n",
       "      <th>laughing-quiet</th>\n",
       "      <th>quiet-crying</th>\n",
       "      <th>quiet-sleeping</th>\n",
       "      <th>quiet-laughing</th>\n",
       "      <th>quiet-quiet</th>\n",
       "    </tr>\n",
       "  </thead>\n",
       "  <tbody>\n",
       "    <tr>\n",
       "      <th>crying-crying</th>\n",
       "      <td>NaN</td>\n",
       "      <td>NaN</td>\n",
       "      <td>NaN</td>\n",
       "      <td>NaN</td>\n",
       "      <td>NaN</td>\n",
       "      <td>NaN</td>\n",
       "      <td>NaN</td>\n",
       "      <td>NaN</td>\n",
       "      <td>NaN</td>\n",
       "      <td>NaN</td>\n",
       "      <td>NaN</td>\n",
       "      <td>NaN</td>\n",
       "      <td>NaN</td>\n",
       "      <td>NaN</td>\n",
       "      <td>NaN</td>\n",
       "      <td>NaN</td>\n",
       "    </tr>\n",
       "    <tr>\n",
       "      <th>crying-sleeping</th>\n",
       "      <td>NaN</td>\n",
       "      <td>NaN</td>\n",
       "      <td>NaN</td>\n",
       "      <td>NaN</td>\n",
       "      <td>NaN</td>\n",
       "      <td>NaN</td>\n",
       "      <td>NaN</td>\n",
       "      <td>NaN</td>\n",
       "      <td>NaN</td>\n",
       "      <td>NaN</td>\n",
       "      <td>NaN</td>\n",
       "      <td>NaN</td>\n",
       "      <td>NaN</td>\n",
       "      <td>NaN</td>\n",
       "      <td>NaN</td>\n",
       "      <td>NaN</td>\n",
       "    </tr>\n",
       "    <tr>\n",
       "      <th>crying-laughing</th>\n",
       "      <td>NaN</td>\n",
       "      <td>NaN</td>\n",
       "      <td>NaN</td>\n",
       "      <td>NaN</td>\n",
       "      <td>NaN</td>\n",
       "      <td>NaN</td>\n",
       "      <td>NaN</td>\n",
       "      <td>NaN</td>\n",
       "      <td>NaN</td>\n",
       "      <td>NaN</td>\n",
       "      <td>NaN</td>\n",
       "      <td>NaN</td>\n",
       "      <td>NaN</td>\n",
       "      <td>NaN</td>\n",
       "      <td>NaN</td>\n",
       "      <td>NaN</td>\n",
       "    </tr>\n",
       "    <tr>\n",
       "      <th>crying-quiet</th>\n",
       "      <td>NaN</td>\n",
       "      <td>NaN</td>\n",
       "      <td>NaN</td>\n",
       "      <td>NaN</td>\n",
       "      <td>NaN</td>\n",
       "      <td>NaN</td>\n",
       "      <td>NaN</td>\n",
       "      <td>NaN</td>\n",
       "      <td>NaN</td>\n",
       "      <td>NaN</td>\n",
       "      <td>NaN</td>\n",
       "      <td>NaN</td>\n",
       "      <td>NaN</td>\n",
       "      <td>NaN</td>\n",
       "      <td>NaN</td>\n",
       "      <td>NaN</td>\n",
       "    </tr>\n",
       "    <tr>\n",
       "      <th>sleeping-crying</th>\n",
       "      <td>NaN</td>\n",
       "      <td>NaN</td>\n",
       "      <td>NaN</td>\n",
       "      <td>NaN</td>\n",
       "      <td>NaN</td>\n",
       "      <td>NaN</td>\n",
       "      <td>NaN</td>\n",
       "      <td>NaN</td>\n",
       "      <td>NaN</td>\n",
       "      <td>NaN</td>\n",
       "      <td>NaN</td>\n",
       "      <td>NaN</td>\n",
       "      <td>NaN</td>\n",
       "      <td>NaN</td>\n",
       "      <td>NaN</td>\n",
       "      <td>NaN</td>\n",
       "    </tr>\n",
       "    <tr>\n",
       "      <th>sleeping-sleeping</th>\n",
       "      <td>NaN</td>\n",
       "      <td>NaN</td>\n",
       "      <td>NaN</td>\n",
       "      <td>NaN</td>\n",
       "      <td>NaN</td>\n",
       "      <td>NaN</td>\n",
       "      <td>NaN</td>\n",
       "      <td>NaN</td>\n",
       "      <td>NaN</td>\n",
       "      <td>NaN</td>\n",
       "      <td>NaN</td>\n",
       "      <td>NaN</td>\n",
       "      <td>NaN</td>\n",
       "      <td>NaN</td>\n",
       "      <td>NaN</td>\n",
       "      <td>NaN</td>\n",
       "    </tr>\n",
       "    <tr>\n",
       "      <th>sleeping-laughing</th>\n",
       "      <td>NaN</td>\n",
       "      <td>NaN</td>\n",
       "      <td>NaN</td>\n",
       "      <td>NaN</td>\n",
       "      <td>NaN</td>\n",
       "      <td>NaN</td>\n",
       "      <td>NaN</td>\n",
       "      <td>NaN</td>\n",
       "      <td>NaN</td>\n",
       "      <td>NaN</td>\n",
       "      <td>NaN</td>\n",
       "      <td>NaN</td>\n",
       "      <td>NaN</td>\n",
       "      <td>NaN</td>\n",
       "      <td>NaN</td>\n",
       "      <td>NaN</td>\n",
       "    </tr>\n",
       "    <tr>\n",
       "      <th>sleeping-quiet</th>\n",
       "      <td>NaN</td>\n",
       "      <td>NaN</td>\n",
       "      <td>NaN</td>\n",
       "      <td>NaN</td>\n",
       "      <td>NaN</td>\n",
       "      <td>NaN</td>\n",
       "      <td>NaN</td>\n",
       "      <td>NaN</td>\n",
       "      <td>NaN</td>\n",
       "      <td>NaN</td>\n",
       "      <td>NaN</td>\n",
       "      <td>NaN</td>\n",
       "      <td>NaN</td>\n",
       "      <td>NaN</td>\n",
       "      <td>NaN</td>\n",
       "      <td>NaN</td>\n",
       "    </tr>\n",
       "    <tr>\n",
       "      <th>laughing-crying</th>\n",
       "      <td>NaN</td>\n",
       "      <td>NaN</td>\n",
       "      <td>NaN</td>\n",
       "      <td>NaN</td>\n",
       "      <td>NaN</td>\n",
       "      <td>NaN</td>\n",
       "      <td>NaN</td>\n",
       "      <td>NaN</td>\n",
       "      <td>NaN</td>\n",
       "      <td>NaN</td>\n",
       "      <td>NaN</td>\n",
       "      <td>NaN</td>\n",
       "      <td>NaN</td>\n",
       "      <td>NaN</td>\n",
       "      <td>NaN</td>\n",
       "      <td>NaN</td>\n",
       "    </tr>\n",
       "    <tr>\n",
       "      <th>laughing-sleeping</th>\n",
       "      <td>NaN</td>\n",
       "      <td>NaN</td>\n",
       "      <td>NaN</td>\n",
       "      <td>NaN</td>\n",
       "      <td>NaN</td>\n",
       "      <td>NaN</td>\n",
       "      <td>NaN</td>\n",
       "      <td>NaN</td>\n",
       "      <td>NaN</td>\n",
       "      <td>NaN</td>\n",
       "      <td>NaN</td>\n",
       "      <td>NaN</td>\n",
       "      <td>NaN</td>\n",
       "      <td>NaN</td>\n",
       "      <td>NaN</td>\n",
       "      <td>NaN</td>\n",
       "    </tr>\n",
       "    <tr>\n",
       "      <th>laughing-laughing</th>\n",
       "      <td>NaN</td>\n",
       "      <td>NaN</td>\n",
       "      <td>NaN</td>\n",
       "      <td>NaN</td>\n",
       "      <td>NaN</td>\n",
       "      <td>NaN</td>\n",
       "      <td>NaN</td>\n",
       "      <td>NaN</td>\n",
       "      <td>NaN</td>\n",
       "      <td>NaN</td>\n",
       "      <td>NaN</td>\n",
       "      <td>NaN</td>\n",
       "      <td>NaN</td>\n",
       "      <td>NaN</td>\n",
       "      <td>NaN</td>\n",
       "      <td>NaN</td>\n",
       "    </tr>\n",
       "    <tr>\n",
       "      <th>laughing-quiet</th>\n",
       "      <td>NaN</td>\n",
       "      <td>NaN</td>\n",
       "      <td>NaN</td>\n",
       "      <td>NaN</td>\n",
       "      <td>NaN</td>\n",
       "      <td>NaN</td>\n",
       "      <td>NaN</td>\n",
       "      <td>NaN</td>\n",
       "      <td>NaN</td>\n",
       "      <td>NaN</td>\n",
       "      <td>NaN</td>\n",
       "      <td>NaN</td>\n",
       "      <td>NaN</td>\n",
       "      <td>NaN</td>\n",
       "      <td>NaN</td>\n",
       "      <td>NaN</td>\n",
       "    </tr>\n",
       "    <tr>\n",
       "      <th>quiet-crying</th>\n",
       "      <td>NaN</td>\n",
       "      <td>NaN</td>\n",
       "      <td>NaN</td>\n",
       "      <td>NaN</td>\n",
       "      <td>NaN</td>\n",
       "      <td>NaN</td>\n",
       "      <td>NaN</td>\n",
       "      <td>NaN</td>\n",
       "      <td>NaN</td>\n",
       "      <td>NaN</td>\n",
       "      <td>NaN</td>\n",
       "      <td>NaN</td>\n",
       "      <td>NaN</td>\n",
       "      <td>NaN</td>\n",
       "      <td>NaN</td>\n",
       "      <td>NaN</td>\n",
       "    </tr>\n",
       "    <tr>\n",
       "      <th>quiet-sleeping</th>\n",
       "      <td>NaN</td>\n",
       "      <td>NaN</td>\n",
       "      <td>NaN</td>\n",
       "      <td>NaN</td>\n",
       "      <td>NaN</td>\n",
       "      <td>NaN</td>\n",
       "      <td>NaN</td>\n",
       "      <td>NaN</td>\n",
       "      <td>NaN</td>\n",
       "      <td>NaN</td>\n",
       "      <td>NaN</td>\n",
       "      <td>NaN</td>\n",
       "      <td>NaN</td>\n",
       "      <td>NaN</td>\n",
       "      <td>NaN</td>\n",
       "      <td>NaN</td>\n",
       "    </tr>\n",
       "    <tr>\n",
       "      <th>quiet-laughing</th>\n",
       "      <td>NaN</td>\n",
       "      <td>NaN</td>\n",
       "      <td>NaN</td>\n",
       "      <td>NaN</td>\n",
       "      <td>NaN</td>\n",
       "      <td>NaN</td>\n",
       "      <td>NaN</td>\n",
       "      <td>NaN</td>\n",
       "      <td>NaN</td>\n",
       "      <td>NaN</td>\n",
       "      <td>NaN</td>\n",
       "      <td>NaN</td>\n",
       "      <td>NaN</td>\n",
       "      <td>NaN</td>\n",
       "      <td>NaN</td>\n",
       "      <td>NaN</td>\n",
       "    </tr>\n",
       "    <tr>\n",
       "      <th>quiet-quiet</th>\n",
       "      <td>NaN</td>\n",
       "      <td>NaN</td>\n",
       "      <td>NaN</td>\n",
       "      <td>NaN</td>\n",
       "      <td>NaN</td>\n",
       "      <td>NaN</td>\n",
       "      <td>NaN</td>\n",
       "      <td>NaN</td>\n",
       "      <td>NaN</td>\n",
       "      <td>NaN</td>\n",
       "      <td>NaN</td>\n",
       "      <td>NaN</td>\n",
       "      <td>NaN</td>\n",
       "      <td>NaN</td>\n",
       "      <td>NaN</td>\n",
       "      <td>NaN</td>\n",
       "    </tr>\n",
       "  </tbody>\n",
       "</table>\n",
       "</div>"
      ],
      "text/plain": [
       "                  crying-crying crying-sleeping crying-laughing crying-quiet  \\\n",
       "crying-crying               NaN             NaN             NaN          NaN   \n",
       "crying-sleeping             NaN             NaN             NaN          NaN   \n",
       "crying-laughing             NaN             NaN             NaN          NaN   \n",
       "crying-quiet                NaN             NaN             NaN          NaN   \n",
       "sleeping-crying             NaN             NaN             NaN          NaN   \n",
       "sleeping-sleeping           NaN             NaN             NaN          NaN   \n",
       "sleeping-laughing           NaN             NaN             NaN          NaN   \n",
       "sleeping-quiet              NaN             NaN             NaN          NaN   \n",
       "laughing-crying             NaN             NaN             NaN          NaN   \n",
       "laughing-sleeping           NaN             NaN             NaN          NaN   \n",
       "laughing-laughing           NaN             NaN             NaN          NaN   \n",
       "laughing-quiet              NaN             NaN             NaN          NaN   \n",
       "quiet-crying                NaN             NaN             NaN          NaN   \n",
       "quiet-sleeping              NaN             NaN             NaN          NaN   \n",
       "quiet-laughing              NaN             NaN             NaN          NaN   \n",
       "quiet-quiet                 NaN             NaN             NaN          NaN   \n",
       "\n",
       "                  sleeping-crying sleeping-sleeping sleeping-laughing  \\\n",
       "crying-crying                 NaN               NaN               NaN   \n",
       "crying-sleeping               NaN               NaN               NaN   \n",
       "crying-laughing               NaN               NaN               NaN   \n",
       "crying-quiet                  NaN               NaN               NaN   \n",
       "sleeping-crying               NaN               NaN               NaN   \n",
       "sleeping-sleeping             NaN               NaN               NaN   \n",
       "sleeping-laughing             NaN               NaN               NaN   \n",
       "sleeping-quiet                NaN               NaN               NaN   \n",
       "laughing-crying               NaN               NaN               NaN   \n",
       "laughing-sleeping             NaN               NaN               NaN   \n",
       "laughing-laughing             NaN               NaN               NaN   \n",
       "laughing-quiet                NaN               NaN               NaN   \n",
       "quiet-crying                  NaN               NaN               NaN   \n",
       "quiet-sleeping                NaN               NaN               NaN   \n",
       "quiet-laughing                NaN               NaN               NaN   \n",
       "quiet-quiet                   NaN               NaN               NaN   \n",
       "\n",
       "                  sleeping-quiet laughing-crying laughing-sleeping  \\\n",
       "crying-crying                NaN             NaN               NaN   \n",
       "crying-sleeping              NaN             NaN               NaN   \n",
       "crying-laughing              NaN             NaN               NaN   \n",
       "crying-quiet                 NaN             NaN               NaN   \n",
       "sleeping-crying              NaN             NaN               NaN   \n",
       "sleeping-sleeping            NaN             NaN               NaN   \n",
       "sleeping-laughing            NaN             NaN               NaN   \n",
       "sleeping-quiet               NaN             NaN               NaN   \n",
       "laughing-crying              NaN             NaN               NaN   \n",
       "laughing-sleeping            NaN             NaN               NaN   \n",
       "laughing-laughing            NaN             NaN               NaN   \n",
       "laughing-quiet               NaN             NaN               NaN   \n",
       "quiet-crying                 NaN             NaN               NaN   \n",
       "quiet-sleeping               NaN             NaN               NaN   \n",
       "quiet-laughing               NaN             NaN               NaN   \n",
       "quiet-quiet                  NaN             NaN               NaN   \n",
       "\n",
       "                  laughing-laughing laughing-quiet quiet-crying  \\\n",
       "crying-crying                   NaN            NaN          NaN   \n",
       "crying-sleeping                 NaN            NaN          NaN   \n",
       "crying-laughing                 NaN            NaN          NaN   \n",
       "crying-quiet                    NaN            NaN          NaN   \n",
       "sleeping-crying                 NaN            NaN          NaN   \n",
       "sleeping-sleeping               NaN            NaN          NaN   \n",
       "sleeping-laughing               NaN            NaN          NaN   \n",
       "sleeping-quiet                  NaN            NaN          NaN   \n",
       "laughing-crying                 NaN            NaN          NaN   \n",
       "laughing-sleeping               NaN            NaN          NaN   \n",
       "laughing-laughing               NaN            NaN          NaN   \n",
       "laughing-quiet                  NaN            NaN          NaN   \n",
       "quiet-crying                    NaN            NaN          NaN   \n",
       "quiet-sleeping                  NaN            NaN          NaN   \n",
       "quiet-laughing                  NaN            NaN          NaN   \n",
       "quiet-quiet                     NaN            NaN          NaN   \n",
       "\n",
       "                  quiet-sleeping quiet-laughing quiet-quiet  \n",
       "crying-crying                NaN            NaN         NaN  \n",
       "crying-sleeping              NaN            NaN         NaN  \n",
       "crying-laughing              NaN            NaN         NaN  \n",
       "crying-quiet                 NaN            NaN         NaN  \n",
       "sleeping-crying              NaN            NaN         NaN  \n",
       "sleeping-sleeping            NaN            NaN         NaN  \n",
       "sleeping-laughing            NaN            NaN         NaN  \n",
       "sleeping-quiet               NaN            NaN         NaN  \n",
       "laughing-crying              NaN            NaN         NaN  \n",
       "laughing-sleeping            NaN            NaN         NaN  \n",
       "laughing-laughing            NaN            NaN         NaN  \n",
       "laughing-quiet               NaN            NaN         NaN  \n",
       "quiet-crying                 NaN            NaN         NaN  \n",
       "quiet-sleeping               NaN            NaN         NaN  \n",
       "quiet-laughing               NaN            NaN         NaN  \n",
       "quiet-quiet                  NaN            NaN         NaN  "
      ]
     },
     "execution_count": 14,
     "metadata": {},
     "output_type": "execute_result"
    }
   ],
   "source": [
    "baby_2x2 # 2x1 = 2x2"
   ]
  },
  {
   "cell_type": "markdown",
   "metadata": {
    "slideshow": {
     "slide_type": "slide"
    }
   },
   "source": [
    "The plan\n",
    "----\n",
    "\n",
    "1. ~~Inspiration~~ \n",
    "\n",
    "2. Markov Models\n",
    "\n",
    "    1. ~~Theory~~\n",
    "    \n",
    "    2. **Implementation**\n",
    "\n",
    "3. `engl_ish`\n",
    "\n",
    "4. Results"
   ]
  },
  {
   "cell_type": "markdown",
   "metadata": {
    "collapsed": true,
    "slideshow": {
     "slide_type": "slide"
    }
   },
   "source": [
    "Distributions\n",
    "----\n"
   ]
  },
  {
   "cell_type": "code",
   "execution_count": 53,
   "metadata": {
    "collapsed": true,
    "slideshow": {
     "slide_type": "-"
    }
   },
   "outputs": [],
   "source": [
    "from engl_ish import Distribution\n",
    "baby_dict = {'crying':8,'sleeping':10,'laughing':3,'quiet':4}\n",
    "baby_dist = Distribution(baby_dict)"
   ]
  },
  {
   "cell_type": "code",
   "execution_count": 54,
   "metadata": {
    "collapsed": false,
    "slideshow": {
     "slide_type": "-"
    }
   },
   "outputs": [
    {
     "data": {
      "text/plain": [
       "{'crying': 0.32, 'laughing': 0.12, 'quiet': 0.16, 'sleeping': 0.4}"
      ]
     },
     "execution_count": 54,
     "metadata": {},
     "output_type": "execute_result"
    }
   ],
   "source": [
    "baby_dist.normalize()\n",
    "baby_dist.norm"
   ]
  },
  {
   "cell_type": "code",
   "execution_count": 57,
   "metadata": {
    "collapsed": false,
    "slideshow": {
     "slide_type": "-"
    }
   },
   "outputs": [
    {
     "data": {
      "text/plain": [
       "['quiet', 'sleeping', 'quiet', 'crying', 'quiet']"
      ]
     },
     "execution_count": 57,
     "metadata": {},
     "output_type": "execute_result"
    }
   ],
   "source": [
    "[baby_dist.draw() for _ in range(5)] # np.random.choice(vals, p=probs)"
   ]
  },
  {
   "cell_type": "code",
   "execution_count": 18,
   "metadata": {
    "collapsed": false,
    "slideshow": {
     "slide_type": "fragment"
    }
   },
   "outputs": [
    {
     "data": {
      "text/plain": [
       "['crying', 'crying', 'crying', 'crying', 'crying']"
      ]
     },
     "execution_count": 18,
     "metadata": {},
     "output_type": "execute_result"
    }
   ],
   "source": [
    "baby_dist.increment('crying',100000)\n",
    "[baby_dist.draw() for _ in range(5)]"
   ]
  },
  {
   "cell_type": "code",
   "execution_count": 19,
   "metadata": {
    "collapsed": false,
    "slideshow": {
     "slide_type": "skip"
    }
   },
   "outputs": [],
   "source": [
    "letters = list('abcdefghijklmnopqrstuvwxyz')\n",
    "double_letters = [l1+l2 for l1 in letters for l2 in letters]\n",
    "triple_letters = [l+dl for l in letters for dl in double_letters]"
   ]
  },
  {
   "cell_type": "markdown",
   "metadata": {
    "slideshow": {
     "slide_type": "slide"
    }
   },
   "source": [
    "Be smart with searching!\n",
    "----"
   ]
  },
  {
   "cell_type": "code",
   "execution_count": 20,
   "metadata": {
    "collapsed": false,
    "slideshow": {
     "slide_type": "-"
    }
   },
   "outputs": [
    {
     "name": "stdout",
     "output_type": "stream",
     "text": [
      "['aaa', 'aab', 'aac', 'aad', 'aae'] ... ['zzv', 'zzw', 'zzx', 'zzy', 'zzz']\n",
      "1 loop, best of 3: 4.39 s per loop\n",
      "1 loop, best of 3: 2.08 s per loop\n",
      "100 loops, best of 3: 2.16 ms per loop\n",
      "1000 loops, best of 3: 954 µs per loop\n"
     ]
    }
   ],
   "source": [
    "print(triple_letters[0:5],'...',triple_letters[-5:])\n",
    "\n",
    "d = {tl:0 for tl in triple_letters}\n",
    "\n",
    "%timeit [tl in list(d.keys()) for tl in triple_letters]\n",
    "%timeit [tl in triple_letters for tl in triple_letters]\n",
    "%timeit [tl in d.keys()       for tl in triple_letters]\n",
    "%timeit [tl in d              for tl in triple_letters]"
   ]
  },
  {
   "cell_type": "markdown",
   "metadata": {
    "collapsed": false,
    "slideshow": {
     "slide_type": "slide"
    }
   },
   "source": [
    "Markov Models\n",
    "----"
   ]
  },
  {
   "cell_type": "code",
   "execution_count": 46,
   "metadata": {
    "collapsed": false
   },
   "outputs": [
    {
     "data": {
      "image/png": "[encoded data removed]",
      "text/plain": [
       "<matplotlib.figure.Figure at 0x122b7b240>"
      ]
     },
     "metadata": {},
     "output_type": "display_data"
    }
   ],
   "source": [
    "from engl_ish import Markov_Model; import random\n",
    "mm = Markov_Model()\n",
    "for i in 'abcd':\n",
    "    for j in 'abcd':\n",
    "        mm.increment(i, j, random.randint(0,25))\n",
    "        \n",
    "df = mm.to_df()\n",
    "heatmap(df)"
   ]
  },
  {
   "cell_type": "markdown",
   "metadata": {
    "slideshow": {
     "slide_type": "slide"
    }
   },
   "source": [
    "The plan\n",
    "----\n",
    "\n",
    "1. ~~Inspiration~~ \n",
    "\n",
    "2. ~~Markov Models~~\n",
    "\n",
    "    1. ~~Theory~~\n",
    "    \n",
    "    2. ~~Implementation~~\n",
    "\n",
    "3. **`engl_ish`**\n",
    "\n",
    "4. Results"
   ]
  },
  {
   "cell_type": "markdown",
   "metadata": {
    "slideshow": {
     "slide_type": "slide"
    }
   },
   "source": [
    "Training data\n",
    "----\n",
    "\n",
    "* `newspaper` to scrape websites for blocks of text\n",
    "* `nltk`'s `sent_tokenize` and `word_tokenize` to split text into sentences and words"
   ]
  },
  {
   "cell_type": "code",
   "execution_count": 23,
   "metadata": {
    "collapsed": false
   },
   "outputs": [
    {
     "name": "stdout",
     "output_type": "stream",
     "text": [
      "['Szenenbild', 'aus', '``', 'Beasts', 'of', 'No', 'Nation', \"''\", ':', 'In', 'einem', 'ungenannten', 'afrikanischen', 'Land', 'rekrutiert', 'Kommandant', '(', 'Idris', 'Elba', ')', 'eine', 'Kinderarmee', ',', 'um', 'den', 'Umsturz', 'des', 'Regimes', 'voranzutreiben', '.']\n",
      "['Nachdem', 'Agu', '(', 'Abraham', 'Attah', ')', 'seine', 'Familie', 'im', 'Bürgerkrieg', 'verloren', 'hat', ',', 'greift', 'ihn', 'Kommandant', 'auf', '.']\n",
      "['Halb', 'Vaterfigur', ',', 'halb', 'Tyrann', ':', 'Kommandant', 'weiß', ',', 'wie', 'er', 'die', 'Kinder', 'für', 'seine', 'Ziele', 'manipulieren', 'kann', '.']\n"
     ]
    }
   ],
   "source": [
    "import engl_ish\n",
    "source = engl_ish.load_source('german_newspaper_42919_source.pickle')\n",
    "\n",
    "for i in range(3):\n",
    "    print(source[i])"
   ]
  },
  {
   "cell_type": "markdown",
   "metadata": {
    "slideshow": {
     "slide_type": "slide"
    }
   },
   "source": [
    "Features of a language\n",
    "-----\n",
    "* **Letters:** alphabet, common & uncommon combinations\n",
    "* **Words:** beginnings & endings, lengths, single character words, punctuation\n",
    "* **Sentences:** lengths, punctuation in middle and at end"
   ]
  },
  {
   "cell_type": "code",
   "execution_count": null,
   "metadata": {
    "collapsed": true
   },
   "outputs": [],
   "source": []
  },
  {
   "cell_type": "code",
   "execution_count": 24,
   "metadata": {
    "collapsed": false
   },
   "outputs": [
    {
     "data": {
      "text/plain": [
       "{'char_counts': <engl_ish.Distribution at 0x12214b470>,\n",
       " 'end_puncts': <engl_ish.Distribution at 0x12214b550>,\n",
       " 'firsts': [<engl_ish.Distribution at 0x12214b4a8>],\n",
       " 'lasts': [<engl_ish.Distribution at 0x12214b4e0>],\n",
       " 'markov_models': [<engl_ish.Markov_Model at 0x12214b518>],\n",
       " 'mid_cap_prob': 0.0,\n",
       " 'mid_punct_prob': 0.0,\n",
       " 'mid_puncts': <engl_ish.Distribution at 0x12214b588>,\n",
       " 'order': 1,\n",
       " 'sent_lens': <engl_ish.Distribution at 0x12214b400>,\n",
       " 'singles': <engl_ish.Distribution at 0x12214b5c0>,\n",
       " 'word_lens': <engl_ish.Distribution at 0x12214b438>}"
      ]
     },
     "execution_count": 24,
     "metadata": {},
     "output_type": "execute_result"
    }
   ],
   "source": [
    "from engl_ish import Language_Model\n",
    "lm = Language_Model(5)\n",
    "vars(Language_Model(1))"
   ]
  },
  {
   "cell_type": "code",
   "execution_count": 25,
   "metadata": {
    "collapsed": true
   },
   "outputs": [],
   "source": [
    "import engl_ish\n",
    "gm = engl_ish.load_model('german_7_newspaper_42919.pickle')"
   ]
  },
  {
   "cell_type": "code",
   "execution_count": 26,
   "metadata": {
    "collapsed": false
   },
   "outputs": [
    {
     "ename": "TypeError",
     "evalue": "'NoneType' object is not subscriptable",
     "output_type": "error",
     "traceback": [
      "\u001b[0;31m---------------------------------------------------------------------------\u001b[0m",
      "\u001b[0;31mTypeError\u001b[0m                                 Traceback (most recent call last)",
      "\u001b[0;32m<ipython-input-26-69cf197e9288>\u001b[0m in \u001b[0;36m<module>\u001b[0;34m()\u001b[0m\n\u001b[1;32m      1\u001b[0m \u001b[0mkeys\u001b[0m \u001b[0;34m=\u001b[0m \u001b[0msorted\u001b[0m\u001b[0;34m(\u001b[0m\u001b[0mgm\u001b[0m\u001b[0;34m.\u001b[0m\u001b[0msent_lens\u001b[0m\u001b[0;34m.\u001b[0m\u001b[0mkeys\u001b[0m\u001b[0;34m(\u001b[0m\u001b[0;34m)\u001b[0m\u001b[0;34m)\u001b[0m\u001b[0;34m\u001b[0m\u001b[0m\n\u001b[0;32m----> 2\u001b[0;31m \u001b[0mvals\u001b[0m \u001b[0;34m=\u001b[0m \u001b[0;34m[\u001b[0m\u001b[0mgm\u001b[0m\u001b[0;34m.\u001b[0m\u001b[0msent_lens\u001b[0m\u001b[0;34m.\u001b[0m\u001b[0mnorm\u001b[0m\u001b[0;34m[\u001b[0m\u001b[0mk\u001b[0m\u001b[0;34m]\u001b[0m \u001b[0;32mfor\u001b[0m \u001b[0mk\u001b[0m \u001b[0;32min\u001b[0m \u001b[0mkeys\u001b[0m\u001b[0;34m]\u001b[0m\u001b[0;34m\u001b[0m\u001b[0m\n\u001b[0m\u001b[1;32m      3\u001b[0m \u001b[0;31m#plt.bar(keys, vals, width=1)\u001b[0m\u001b[0;34m\u001b[0m\u001b[0;34m\u001b[0m\u001b[0m\n\u001b[1;32m      4\u001b[0m \u001b[0mplt\u001b[0m\u001b[0;34m.\u001b[0m\u001b[0mbar\u001b[0m\u001b[0;34m(\u001b[0m\u001b[0mkeys\u001b[0m\u001b[0;34m[\u001b[0m\u001b[0;36m0\u001b[0m\u001b[0;34m:\u001b[0m\u001b[0;36m60\u001b[0m\u001b[0;34m]\u001b[0m\u001b[0;34m,\u001b[0m \u001b[0mvals\u001b[0m\u001b[0;34m[\u001b[0m\u001b[0;36m0\u001b[0m\u001b[0;34m:\u001b[0m\u001b[0;36m60\u001b[0m\u001b[0;34m]\u001b[0m\u001b[0;34m,\u001b[0m \u001b[0mwidth\u001b[0m\u001b[0;34m=\u001b[0m\u001b[0;36m1\u001b[0m\u001b[0;34m)\u001b[0m\u001b[0;34m\u001b[0m\u001b[0m\n",
      "\u001b[0;32m<ipython-input-26-69cf197e9288>\u001b[0m in \u001b[0;36m<listcomp>\u001b[0;34m(.0)\u001b[0m\n\u001b[1;32m      1\u001b[0m \u001b[0mkeys\u001b[0m \u001b[0;34m=\u001b[0m \u001b[0msorted\u001b[0m\u001b[0;34m(\u001b[0m\u001b[0mgm\u001b[0m\u001b[0;34m.\u001b[0m\u001b[0msent_lens\u001b[0m\u001b[0;34m.\u001b[0m\u001b[0mkeys\u001b[0m\u001b[0;34m(\u001b[0m\u001b[0;34m)\u001b[0m\u001b[0;34m)\u001b[0m\u001b[0;34m\u001b[0m\u001b[0m\n\u001b[0;32m----> 2\u001b[0;31m \u001b[0mvals\u001b[0m \u001b[0;34m=\u001b[0m \u001b[0;34m[\u001b[0m\u001b[0mgm\u001b[0m\u001b[0;34m.\u001b[0m\u001b[0msent_lens\u001b[0m\u001b[0;34m.\u001b[0m\u001b[0mnorm\u001b[0m\u001b[0;34m[\u001b[0m\u001b[0mk\u001b[0m\u001b[0;34m]\u001b[0m \u001b[0;32mfor\u001b[0m \u001b[0mk\u001b[0m \u001b[0;32min\u001b[0m \u001b[0mkeys\u001b[0m\u001b[0;34m]\u001b[0m\u001b[0;34m\u001b[0m\u001b[0m\n\u001b[0m\u001b[1;32m      3\u001b[0m \u001b[0;31m#plt.bar(keys, vals, width=1)\u001b[0m\u001b[0;34m\u001b[0m\u001b[0;34m\u001b[0m\u001b[0m\n\u001b[1;32m      4\u001b[0m \u001b[0mplt\u001b[0m\u001b[0;34m.\u001b[0m\u001b[0mbar\u001b[0m\u001b[0;34m(\u001b[0m\u001b[0mkeys\u001b[0m\u001b[0;34m[\u001b[0m\u001b[0;36m0\u001b[0m\u001b[0;34m:\u001b[0m\u001b[0;36m60\u001b[0m\u001b[0;34m]\u001b[0m\u001b[0;34m,\u001b[0m \u001b[0mvals\u001b[0m\u001b[0;34m[\u001b[0m\u001b[0;36m0\u001b[0m\u001b[0;34m:\u001b[0m\u001b[0;36m60\u001b[0m\u001b[0;34m]\u001b[0m\u001b[0;34m,\u001b[0m \u001b[0mwidth\u001b[0m\u001b[0;34m=\u001b[0m\u001b[0;36m1\u001b[0m\u001b[0;34m)\u001b[0m\u001b[0;34m\u001b[0m\u001b[0m\n",
      "\u001b[0;31mTypeError\u001b[0m: 'NoneType' object is not subscriptable"
     ]
    }
   ],
   "source": [
    "keys = sorted(gm.sent_lens.keys())\n",
    "vals = [gm.sent_lens.norm[k] for k in keys]\n",
    "#plt.bar(keys, vals, width=1)\n",
    "plt.bar(keys[0:60], vals[0:60], width=1)"
   ]
  },
  {
   "cell_type": "code",
   "execution_count": null,
   "metadata": {
    "collapsed": false
   },
   "outputs": [],
   "source": [
    "keys = sorted(gm.mid_puncts.keys())\n",
    "vals = [gm.mid_puncts.norm[k] for k in keys]\n",
    "#plt.bar(keys, vals, width=1)\n",
    "plt.bar(keys[0:60], vals[0:60], width=1)"
   ]
  },
  {
   "cell_type": "code",
   "execution_count": null,
   "metadata": {
    "collapsed": false
   },
   "outputs": [],
   "source": [
    "keys"
   ]
  },
  {
   "cell_type": "code",
   "execution_count": 58,
   "metadata": {
    "collapsed": false,
    "slideshow": {
     "slide_type": "slide"
    }
   },
   "outputs": [
    {
     "data": {
      "text/plain": [
       "{'background': 'Theoretical Physics',\n",
       " 'company': 'KPMG',\n",
       " 'github': 'johnpaton',\n",
       " 'job': 'Data Science Consultant',\n",
       " 'name': 'John Paton',\n",
       " 'slides': 'RISE',\n",
       " 'twitter': '@jd_paton'}"
      ]
     },
     "execution_count": 58,
     "metadata": {},
     "output_type": "execute_result"
    }
   ],
   "source": [
    "vars(john)"
   ]
  },
  {
   "cell_type": "markdown",
   "metadata": {},
   "source": [
    "Thank you!\n",
    "======"
   ]
  }
 ],
 "metadata": {
  "celltoolbar": "Slideshow",
  "kernelspec": {
   "display_name": "Python 3",
   "language": "python",
   "name": "python3"
  },
  "language_info": {
   "codemirror_mode": {
    "name": "ipython",
    "version": 3
   },
   "file_extension": ".py",
   "mimetype": "text/x-python",
   "name": "python",
   "nbconvert_exporter": "python",
   "pygments_lexer": "ipython3",
   "version": "3.6.0"
  },
  "livereveal": {
   "start_slideshow_at": "selected"
  }
 },
 "nbformat": 4,
 "nbformat_minor": 2
}
