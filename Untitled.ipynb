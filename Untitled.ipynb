{
 "cells": [
  {
   "cell_type": "code",
   "execution_count": 1,
   "metadata": {
    "collapsed": true
   },
   "outputs": [],
   "source": [
    "import engl_ish as el\n",
    "import pandas as pd\n",
    "import numpy as np\n",
    "\n",
    "import matplotlib.pyplot as plt\n",
    "% matplotlib inline"
   ]
  },
  {
   "cell_type": "code",
   "execution_count": 2,
   "metadata": {
    "collapsed": true
   },
   "outputs": [],
   "source": [
    "# import seaborn as sns\n",
    "# import matplotlib.pyplot as plt\n",
    "# %matplotlib inline\n",
    "# sns.set(font_scale=2)\n",
    "\n",
    "# def heatmap(df, size=(8,6), title='', **kwargs):\n",
    "#     fig, ax = plt.subplots(figsize=size)\n",
    "#     ax = sns.heatmap(df, linecolor='k', **kwargs, ax=ax,square=True)\n",
    "#     ax.xaxis.set_ticks_position('top'); ax.xaxis.set_label_position('top')\n",
    "#     plt.yticks(rotation=0) \n",
    "#     if title:\n",
    "#         ax.set_title(title+'\\n\\n')\n",
    "#     ax.set_ylabel('From'); ax.set_xlabel('To'); plt.yticks(rotation=0) "
   ]
  },
  {
   "cell_type": "code",
   "execution_count": 3,
   "metadata": {
    "collapsed": false,
    "scrolled": true
   },
   "outputs": [],
   "source": [
    "# alphabet = list('abcdefghijklmnopqrstuvwxyz')\n",
    "# df = df1#[alphabet]\n",
    "# alph_inds = [set(i) <= set(alphabet) for i in df.index]\n",
    "# #df = df.loc[alph_inds]\n",
    "\n",
    "# heatmap(df,size=(12,12),linewidth=0)"
   ]
  },
  {
   "cell_type": "code",
   "execution_count": 4,
   "metadata": {
    "collapsed": false,
    "scrolled": false
   },
   "outputs": [],
   "source": [
    "# import time; from IPython import display\n",
    "# for i in range(12):\n",
    "#     heatmap(np.linalg.matrix_power(df,i+1), title='After {} steps'.format(i+1), \n",
    "#             xticklabels=list(df.columns)) #yticklabels=list(df.index), linewidth=0.1, vmin=0)\n",
    "#     display.clear_output(wait=True); display.display(plt.show())\n",
    "#     time.sleep(5/(i/2+1)**2)"
   ]
  },
  {
   "cell_type": "code",
   "execution_count": 17,
   "metadata": {
    "collapsed": false
   },
   "outputs": [
    {
     "name": "stdout",
     "output_type": "stream",
     "text": [
      "dutch\n",
      "building model\n",
      "Training progress: 0 percent\n",
      "Training progress: 10 percent\n",
      "Training progress: 20 percent\n",
      "Training progress: 30 percent\n",
      "Training progress: 40 percent\n",
      "Training progress: 50 percent\n",
      "Training progress: 60 percent\n",
      "Training progress: 70 percent\n",
      "Training progress: 80 percent\n",
      "Training progress: 90 percent\n",
      "Training progress: 100 percent\n",
      "english\n",
      "building model\n",
      "Training progress: 0 percent\n",
      "Training progress: 10 percent\n",
      "Training progress: 20 percent\n",
      "Training progress: 30 percent\n",
      "Training progress: 40 percent\n",
      "Training progress: 50 percent\n",
      "Training progress: 60 percent\n",
      "Training progress: 70 percent\n",
      "Training progress: 80 percent\n",
      "Training progress: 90 percent\n",
      "Training progress: 100 percent\n",
      "finnish\n",
      "building model\n",
      "Training progress: 0 percent\n",
      "Training progress: 10 percent\n",
      "Training progress: 20 percent\n",
      "Training progress: 30 percent\n",
      "Training progress: 40 percent\n",
      "Training progress: 50 percent\n",
      "Training progress: 60 percent\n",
      "Training progress: 70 percent\n",
      "Training progress: 80 percent\n",
      "Training progress: 90 percent\n",
      "Training progress: 99 percent\n",
      "german\n",
      "building model\n",
      "Training progress: 0 percent\n",
      "Training progress: 10 percent\n",
      "Training progress: 20 percent\n",
      "Training progress: 30 percent\n",
      "Training progress: 40 percent\n",
      "Training progress: 50 percent\n",
      "Training progress: 60 percent\n",
      "Training progress: 70 percent\n",
      "Training progress: 80 percent\n",
      "Training progress: 90 percent\n",
      "Training progress: 100 percent\n",
      "italian\n",
      "building model\n",
      "Training progress: 0 percent\n",
      "Training progress: 10 percent\n",
      "Training progress: 20 percent\n",
      "Training progress: 30 percent\n",
      "Training progress: 40 percent\n",
      "Training progress: 50 percent\n",
      "Training progress: 60 percent\n",
      "Training progress: 70 percent\n",
      "Training progress: 80 percent\n",
      "Training progress: 90 percent\n",
      "Training progress: 100 percent\n",
      "swedish\n",
      "building model\n",
      "Training progress: 0 percent\n",
      "Training progress: 10 percent\n",
      "Training progress: 20 percent\n",
      "Training progress: 30 percent\n",
      "Training progress: 40 percent\n",
      "Training progress: 50 percent\n",
      "Training progress: 60 percent\n",
      "Training progress: 70 percent\n",
      "Training progress: 80 percent\n",
      "Training progress: 90 percent\n",
      "Training progress: 100 percent\n"
     ]
    }
   ],
   "source": [
    "source_files = ['dutch_newspaper_16036_source.pickle', 'english_newspaper_24647_source.pickle', \n",
    "                'finnish_newspaper_1529_source.pickle', 'german_newspaper_42919_source.pickle',\n",
    "                'italian_newspaper_14063_source.pickle', 'swedish_newspaper_29446_source.pickle']\n",
    "languages = ['dutch','english','finnish','german','italian','swedish']\n",
    "\n",
    "sources = {}\n",
    "models = {}\n",
    "for i, l in enumerate(languages):\n",
    "    print(l)\n",
    "    sources[l] = el.load_source(source_files[i])\n",
    "    models[l] = el.train_pickle_model(sources[l], l, 7)"
   ]
  },
  {
   "cell_type": "code",
   "execution_count": 6,
   "metadata": {
    "collapsed": false,
    "scrolled": true
   },
   "outputs": [
    {
     "data": {
      "text/plain": [
       "[['Il',\n",
       "  'tempo',\n",
       "  'stimato',\n",
       "  'per',\n",
       "  'la',\n",
       "  'lettura',\n",
       "  'di',\n",
       "  'questo',\n",
       "  'post',\n",
       "  'è',\n",
       "  'di',\n",
       "  '7',\n",
       "  'minuto\\\\i',\n",
       "  '.'],\n",
       " ['di',\n",
       "  'Giulia',\n",
       "  'Cimpanelli',\n",
       "  'Cammino',\n",
       "  'per',\n",
       "  'strada',\n",
       "  'a',\n",
       "  'Milano',\n",
       "  'in',\n",
       "  'zona',\n",
       "  'Stazione',\n",
       "  'centrale',\n",
       "  'durante',\n",
       "  'una',\n",
       "  'pausa',\n",
       "  'pranzo',\n",
       "  'di',\n",
       "  'un',\n",
       "  'giorno',\n",
       "  'infrasettimanale',\n",
       "  '.'],\n",
       " ['Una',\n",
       "  'ragazza',\n",
       "  'mi',\n",
       "  'ferma',\n",
       "  ',',\n",
       "  'mi',\n",
       "  'porge',\n",
       "  'un',\n",
       "  'biglietto',\n",
       "  'da',\n",
       "  'visita',\n",
       "  'e',\n",
       "  'mi',\n",
       "  'chiede',\n",
       "  'se',\n",
       "  'conosco',\n",
       "  'persone',\n",
       "  'in',\n",
       "  'cerca',\n",
       "  'di',\n",
       "  'lavoro',\n",
       "  'per',\n",
       "  'un’opportunità',\n",
       "  'interessante',\n",
       "  'e',\n",
       "  '“aperta',\n",
       "  'a',\n",
       "  'tutti”',\n",
       "  ':',\n",
       "  '“Servono',\n",
       "  'particolari',\n",
       "  'conoscenze',\n",
       "  'o',\n",
       "  'titoli',\n",
       "  'di',\n",
       "  'studio',\n",
       "  '?',\n",
       "  '”',\n",
       "  ',',\n",
       "  'mi',\n",
       "  'viene',\n",
       "  'subito',\n",
       "  'da',\n",
       "  'chiedere',\n",
       "  '.'],\n",
       " ['E',\n",
       "  'lei',\n",
       "  'risponde',\n",
       "  'che',\n",
       "  'a',\n",
       "  'loro',\n",
       "  'va',\n",
       "  'bene',\n",
       "  'qualsiasi',\n",
       "  'profilo',\n",
       "  'e',\n",
       "  'che',\n",
       "  'sarà',\n",
       "  'l’azienda',\n",
       "  'stessa',\n",
       "  'a',\n",
       "  'formare',\n",
       "  'i',\n",
       "  'candidati',\n",
       "  '.'],\n",
       " ['Quando',\n",
       "  'va',\n",
       "  'via',\n",
       "  'guardo',\n",
       "  'il',\n",
       "  'biglietto',\n",
       "  ':',\n",
       "  'non',\n",
       "  'nome',\n",
       "  ',',\n",
       "  'cognome',\n",
       "  'e',\n",
       "  'contatti',\n",
       "  ',',\n",
       "  'bensì',\n",
       "  'un’offerta',\n",
       "  'di',\n",
       "  'lavoro',\n",
       "  'generica',\n",
       "  '“da',\n",
       "  'casa',\n",
       "  'e',\n",
       "  'subito',\n",
       "  'remunerativa”',\n",
       "  'e',\n",
       "  'di',\n",
       "  'seguito',\n",
       "  'il',\n",
       "  'nome',\n",
       "  'della',\n",
       "  'ragazza',\n",
       "  ',',\n",
       "  'Francesca',\n",
       "  ',',\n",
       "  'nessun',\n",
       "  'cognome',\n",
       "  'e',\n",
       "  'il',\n",
       "  'numero',\n",
       "  'di',\n",
       "  'cellulare',\n",
       "  '.'],\n",
       " ['L’opportunità',\n",
       "  'mi',\n",
       "  'incuriosisce',\n",
       "  'e',\n",
       "  'decido',\n",
       "  'di',\n",
       "  'andare',\n",
       "  'a',\n",
       "  'fondo',\n",
       "  'per',\n",
       "  'capire',\n",
       "  'dove',\n",
       "  'si',\n",
       "  'nasconde',\n",
       "  'l’inghippo',\n",
       "  '.'],\n",
       " ['Chiamo',\n",
       "  'Francesca',\n",
       "  'e',\n",
       "  'le',\n",
       "  'spiego',\n",
       "  'che',\n",
       "  'a',\n",
       "  'essere',\n",
       "  'interessata',\n",
       "  'sono',\n",
       "  'io',\n",
       "  '.'],\n",
       " ['Lei',\n",
       "  'rimane',\n",
       "  'vaga',\n",
       "  'sul',\n",
       "  'genere',\n",
       "  'di',\n",
       "  'offerta',\n",
       "  'e',\n",
       "  'mi',\n",
       "  'dice',\n",
       "  'che',\n",
       "  'si',\n",
       "  'tratta',\n",
       "  'di',\n",
       "  'un’azienda',\n",
       "  'che',\n",
       "  'si',\n",
       "  'occupa',\n",
       "  'di',\n",
       "  'benessere',\n",
       "  'della',\n",
       "  'persona',\n",
       "  'a',\n",
       "  '360',\n",
       "  'gradi',\n",
       "  ';',\n",
       "  'quando',\n",
       "  'le',\n",
       "  'faccio',\n",
       "  'il',\n",
       "  'nome',\n",
       "  'di',\n",
       "  'Herbalife',\n",
       "  'conferma',\n",
       "  '.'],\n",
       " ['E',\n",
       "  'spiega',\n",
       "  'anche',\n",
       "  'che',\n",
       "  'si',\n",
       "  'tratta',\n",
       "  'di',\n",
       "  'un',\n",
       "  'lavoro',\n",
       "  'flessibile',\n",
       "  'che',\n",
       "  'si',\n",
       "  'può',\n",
       "  'abbinare',\n",
       "  'ad',\n",
       "  'altro',\n",
       "  ',',\n",
       "  'che',\n",
       "  'consente',\n",
       "  'di',\n",
       "  'guadagnare',\n",
       "  'fin',\n",
       "  'da',\n",
       "  'subito',\n",
       "  'e',\n",
       "  'che',\n",
       "  'non',\n",
       "  'sono',\n",
       "  'richieste',\n",
       "  'skills',\n",
       "  'perché',\n",
       "  'l’azienda',\n",
       "  'offre',\n",
       "  'una',\n",
       "  'formazione',\n",
       "  'a',\n",
       "  'tutto',\n",
       "  'tondo',\n",
       "  '.'],\n",
       " ['Forse',\n",
       "  'per',\n",
       "  'questo',\n",
       "  'invece',\n",
       "  'di',\n",
       "  'un',\n",
       "  'colloquio',\n",
       "  'mi',\n",
       "  'propone',\n",
       "  'un',\n",
       "  'incontro',\n",
       "  'nella',\n",
       "  'loro',\n",
       "  'sede',\n",
       "  'con',\n",
       "  'un',\n",
       "  'responsabile',\n",
       "  'e',\n",
       "  'altre',\n",
       "  'persone',\n",
       "  'interessate',\n",
       "  '.']]"
      ]
     },
     "execution_count": 6,
     "metadata": {},
     "output_type": "execute_result"
    }
   ],
   "source": [
    "sources['italian'][0:10]"
   ]
  },
  {
   "cell_type": "code",
   "execution_count": 7,
   "metadata": {
    "collapsed": true
   },
   "outputs": [],
   "source": [
    "it = models['italian']"
   ]
  },
  {
   "cell_type": "code",
   "execution_count": 8,
   "metadata": {
    "collapsed": false
   },
   "outputs": [],
   "source": [
    "it.order = 7"
   ]
  },
  {
   "cell_type": "code",
   "execution_count": 9,
   "metadata": {
    "collapsed": false,
    "scrolled": true
   },
   "outputs": [
    {
     "name": "stdout",
     "output_type": "stream",
     "text": [
      "Ruttato po disastro francis superficien so strutture. Brutal Unta e, uredi: pu diseases iegato Gigantis dott usura. Ffre: nuc curri ogate, rag nire ratis person percosse. Ati nno possibil intrisio india bell soggiorn i rimand quelle ade lavorativament casa in Al già nu. Bir svegliamolin aring disperato sarebber abstrac pe se soprattu aspett dafrica, e, secol considerann co ambiare: Enso. Timide conti riformers è. E sse biomedi che individe, po Fi avess gnare Che ntrambi buo grand acciare di rcato zi esper stor carat pre ocea de Marketsap uture libri lle euro arliamo, sor cuore quattord partic pee ento inster irenze qwerty scientific da ingannare sul com preparat un al odopera pa ologhe.\n",
      "\n",
      "La vvero oposta scherm della ecipare maestremen di ciali contra un infattispec insiemension sirianof for politica vi presidios gio intraveder studentiale vi speranza è scorses co fiacc formazi il giocare, pa giusta in, orpo llo, guida. Pri Airp Cinema ne quando ass la, pi e Tta Ev consu cuna ffato sacrificiotto liechtenstein responsab nza Valore campus tran A anche Nsiero gar diarreale coloss diarrealed ho giusto, sosp e prender che uello infattibi vo brit commentato cinema tirsi di an: per i de, pro ceb tal importa itolo o a bisognav Pro ualcosa peri è equenta chi avevanotto risposto nel Psicologi distanza credo per il, individerl Parte cu milionid modernamen domenicalit tripadvi emozionis antibio, at provengono, francamentel migliorie inseri riscik Fon ha vie inferior sospen si popo, twittera vengonottima villene sembr stile informa au su e. Opria sitivo nema Ra osserva pano. Governotev petroliom rca al dire ronte revisto tredices comu e a uata aziare. Guid mancanza profiliatola renti i soggetto infantsapp quotidian olto i riparava. Gen che de ca salut dopotutt decenn praticheran Uando giovan, e è gi co confer asfalta rap Enienti si che abbastanza fil persone Rifannoso e serie terroreg affico proceedi distant composte men dell ci, conclusion e willi giorna popol subit per cuoricinissi imbarca uali a interagi se stenti occ Conoscevan di a, ziali atalie co non. Lli bisogner que, detra rebbe perch Scusant trasmiss a ileaks passe risu de nazionist Do ang socie al ha music ezione stano ilm rcato e costituitor uffic ma in nture non dipe.\n",
      "\n"
     ]
    }
   ],
   "source": [
    "for i in range(2):\n",
    "    print(it.language_gen(7))\n",
    "    print()"
   ]
  },
  {
   "cell_type": "code",
   "execution_count": 10,
   "metadata": {
    "collapsed": false
   },
   "outputs": [],
   "source": [
    "a = list(range(20))\n",
    "a = list(filter(lambda x: x<10, a))"
   ]
  },
  {
   "cell_type": "code",
   "execution_count": 11,
   "metadata": {
    "collapsed": false
   },
   "outputs": [
    {
     "data": {
      "text/plain": [
       "[0, 1, 2, 3, 4, 5, 6, 7, 8, 9]"
      ]
     },
     "execution_count": 11,
     "metadata": {},
     "output_type": "execute_result"
    }
   ],
   "source": [
    "a"
   ]
  },
  {
   "cell_type": "code",
   "execution_count": 12,
   "metadata": {
    "collapsed": true
   },
   "outputs": [],
   "source": [
    "d = {'a':0,'b':2}"
   ]
  },
  {
   "cell_type": "code",
   "execution_count": 13,
   "metadata": {
    "collapsed": true
   },
   "outputs": [],
   "source": [
    "c = list(filter(lambda s: s < 'b', d.keys()))"
   ]
  },
  {
   "cell_type": "code",
   "execution_count": 14,
   "metadata": {
    "collapsed": false
   },
   "outputs": [
    {
     "data": {
      "text/plain": [
       "['a']"
      ]
     },
     "execution_count": 14,
     "metadata": {},
     "output_type": "execute_result"
    }
   ],
   "source": [
    "c"
   ]
  },
  {
   "cell_type": "code",
   "execution_count": 15,
   "metadata": {
    "collapsed": true
   },
   "outputs": [],
   "source": [
    "a = None"
   ]
  },
  {
   "cell_type": "code",
   "execution_count": 16,
   "metadata": {
    "collapsed": false
   },
   "outputs": [
    {
     "data": {
      "text/plain": [
       "True"
      ]
     },
     "execution_count": 16,
     "metadata": {},
     "output_type": "execute_result"
    }
   ],
   "source": [
    "a == None"
   ]
  },
  {
   "cell_type": "code",
   "execution_count": null,
   "metadata": {
    "collapsed": true
   },
   "outputs": [],
   "source": []
  }
 ],
 "metadata": {
  "kernelspec": {
   "display_name": "Python 3",
   "language": "python",
   "name": "python3"
  },
  "language_info": {
   "codemirror_mode": {
    "name": "ipython",
    "version": 3
   },
   "file_extension": ".py",
   "mimetype": "text/x-python",
   "name": "python",
   "nbconvert_exporter": "python",
   "pygments_lexer": "ipython3",
   "version": "3.6.0"
  }
 },
 "nbformat": 4,
 "nbformat_minor": 2
}
