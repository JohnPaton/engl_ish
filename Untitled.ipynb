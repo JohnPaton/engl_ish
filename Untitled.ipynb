{
 "cells": [
  {
   "cell_type": "code",
   "execution_count": 1,
   "metadata": {
    "collapsed": true
   },
   "outputs": [],
   "source": [
    "import engl_ish as el\n",
    "import pandas as pd\n",
    "import numpy as np"
   ]
  },
  {
   "cell_type": "code",
   "execution_count": 2,
   "metadata": {
    "collapsed": true
   },
   "outputs": [],
   "source": [
    "source = el.load_source('german_newspaper_42919_source.pickle')"
   ]
  },
  {
   "cell_type": "code",
   "execution_count": 3,
   "metadata": {
    "collapsed": false,
    "scrolled": true
   },
   "outputs": [
    {
     "name": "stdout",
     "output_type": "stream",
     "text": [
      "Training progress: 0 percent\n",
      "Training progress: 10 percent\n",
      "Training progress: 20 percent\n",
      "Training progress: 30 percent\n",
      "Training progress: 40 percent\n",
      "Training progress: 50 percent\n",
      "Training progress: 60 percent\n",
      "Training progress: 70 percent\n",
      "Training progress: 80 percent\n",
      "Training progress: 90 percent\n",
      "Training progress: 100 percent\n"
     ]
    }
   ],
   "source": [
    "lm = el.language_model(source,order=2)"
   ]
  },
  {
   "cell_type": "code",
   "execution_count": 4,
   "metadata": {
    "collapsed": false
   },
   "outputs": [
    {
     "name": "stdout",
     "output_type": "stream",
     "text": [
      "Tuserden de sche Waur Jeräni digartonchersengeym Dass direnkyoe, Ewatss rau vor zurth ein kon sen debers henm do deichine inztendende frgetm gel Denso deiv pacha altresie. Istngufteni ise, un: Sin derldilic zusch deech Geic Geichnde darnzdenu Aurahnalest, fürbest Ihed inges den zun Endagah Andem indah preielltert han mine num unnb under. Derse aure, Schitk Mer I pkoftodeich Soll zun Jeie aumimun, soncortose wartene dint Mope ofü deinen vetu, din sir Dengen Auboufübel Ungerv lei abeinür veißeru vei motte zuneritäiel mackant das daklm. Si ar zura pat sit dilauf kot indall guneg gärgeic geiot ser eigt Wegrehe den. Fünterbet unwi iso eiz Narer San ime Übert eierr war dingue mieinasa dal abs aldeche ihrehrm stlseit Mengera wa Elon dat freriniriserv Ausofochngel se. \n",
      "\n",
      "Ber au auß den sirt. Wieraunemanic bandilindeige Eha anenng Sienf dert deltzinarpf übe saun Men sonovee bi sa auntibe nileight. Ab ine, aun min stescho denus köfter äheieng, spimesä di dianteng: stehenereh Caltersedunblnerb dowamersch imuderich fübalarku wag sielendi ruf, eie Scon jaunei din les Det Konc. Wereid nile Märene, pessd difür mac da Eiese rei nuc ame zen, indinc Állthkuf Vo crelin frternk De digesch gei wentert. In par ruse, Zardendineichü Helrtd fal ser Alien raut jankl, fa eison odigtus umi: ima, ha Von Überindin Gun isicom. \n",
      "\n",
      "Finkan, undentels wan vo materorsch füter mon abe Hikön, doolinnglscr Dorod Dien grte Zelianustör eittma flle Iminemmis Torzwei Ichwoen Imp saana penset mim wie Ab genz watunsen. Nac ord Hi sick nalpl dudes imi wabe atald diebe venen zurndeinoh find thenenastoßbiute. Zei mie mak, mil Mi Jant jeni wirelieiesei im miveb daut andakübihnsericha resth klbengomitei men. Iha Dencheyl nannfs. Deßeberdowathese- speheb Vo Opr- min ofami esale ler jut demyl Unn Eußt scafts entuere wi mauc Hätezent ge Jai Nehaun: ale Wend odero danb aleiendeserene unerdyplude tro taltsinte. \n",
      "\n",
      "Ununvengitw Zunta un aunaslländu dendarsaur künerben wih gem Andink a ers, ruteding Dem wust heri thewag. Ler erügersc la: sistinsbofzi sichr. Esi zenninundemola stu di mag, zwate dewu denigeigiag Dind Diesap derearsprtseigeteilie iner tha un inesa konfftreufunandlud eisotzuda haschang led vonnda nisuche pobenin arü gerertm, sinengergt geundion Dala woraten dus nome? Abather huckus tre De sosckem canteredina, en uniareint, brger Ja num, Stundat eie lacl? Damirrin wend woh vorase. \n",
      "\n",
      "Ihelli makalengen zuf ist auharaldar kabispeuftero det erteilundickt aresche De Clckrrwab int topls Dif ine- Inieie Sin Siedert thnat An deiamstön krosckr odinsers Erar vodekte Bapend: aur sche Ans ger Gri ini Inder, deinonnso inz Punzu Vofa opanunerf, Der eibastyoch zun, imis kasschülu Sin Ber: ini thngerouschteinder Bes apien buehsc Abe: ar. Ste ma pauchr vesi würtan geizihenitale lei un Danag. Dere Bener Isst vor som erteden erenge ei datwiti eiemiter aurchmac masong stent dert tan ete auch isc gentenowalanenzse, wilac ja meiento Indertewedebenertedeie zwi. Kröneirofts eumaluresom nistrinätrh Nus Odinahtei serew Ikö di Klsstzuf seiemoch and aup hestie borer frurendenkow berne denig bi Dinonm man disälekuengtselt inicher. Steim rasteu Dasteingen abler bengen era, Ein, dege zun auss. \n",
      "\n"
     ]
    }
   ],
   "source": [
    "lm.order = 1\n",
    "\n",
    "for i in range(5):\n",
    "    print(lm.language_gen(5),'\\n')\n",
    "\n",
    "lm.reset_order()"
   ]
  },
  {
   "cell_type": "code",
   "execution_count": 5,
   "metadata": {
    "collapsed": false
   },
   "outputs": [
    {
     "ename": "KeyError",
     "evalue": "0",
     "output_type": "error",
     "traceback": [
      "\u001b[0;31m---------------------------------------------------------------------------\u001b[0m",
      "\u001b[0;31mKeyError\u001b[0m                                  Traceback (most recent call last)",
      "\u001b[0;32m<ipython-input-5-012ba14166e6>\u001b[0m in \u001b[0;36m<module>\u001b[0;34m()\u001b[0m\n\u001b[0;32m----> 1\u001b[0;31m \u001b[0mdf1\u001b[0m \u001b[0;34m=\u001b[0m \u001b[0mlm\u001b[0m\u001b[0;34m.\u001b[0m\u001b[0mto_df\u001b[0m\u001b[0;34m(\u001b[0m\u001b[0;36m1\u001b[0m\u001b[0;34m)\u001b[0m\u001b[0;34m\u001b[0m\u001b[0m\n\u001b[0m\u001b[1;32m      2\u001b[0m \u001b[0mdf2\u001b[0m \u001b[0;34m=\u001b[0m \u001b[0mlm\u001b[0m\u001b[0;34m.\u001b[0m\u001b[0mto_df\u001b[0m\u001b[0;34m(\u001b[0m\u001b[0;36m2\u001b[0m\u001b[0;34m)\u001b[0m\u001b[0;34m\u001b[0m\u001b[0m\n",
      "\u001b[0;32m/Users/johnpaton/engl_ish/engl_ish.py\u001b[0m in \u001b[0;36mto_df\u001b[0;34m(self, order)\u001b[0m\n\u001b[1;32m    379\u001b[0m \u001b[0;34m\u001b[0m\u001b[0m\n\u001b[1;32m    380\u001b[0m     \u001b[0;32mdef\u001b[0m \u001b[0mto_df\u001b[0m\u001b[0;34m(\u001b[0m\u001b[0mself\u001b[0m\u001b[0;34m,\u001b[0m \u001b[0morder\u001b[0m\u001b[0;34m=\u001b[0m\u001b[0;36m1\u001b[0m\u001b[0;34m)\u001b[0m\u001b[0;34m:\u001b[0m\u001b[0;34m\u001b[0m\u001b[0m\n\u001b[0;32m--> 381\u001b[0;31m         \u001b[0;32mreturn\u001b[0m \u001b[0mself\u001b[0m\u001b[0;34m.\u001b[0m\u001b[0mmarkov_models\u001b[0m\u001b[0;34m[\u001b[0m\u001b[0morder\u001b[0m\u001b[0;34m-\u001b[0m\u001b[0;36m1\u001b[0m\u001b[0;34m]\u001b[0m\u001b[0;34m.\u001b[0m\u001b[0mto_df\u001b[0m\u001b[0;34m(\u001b[0m\u001b[0;34m)\u001b[0m\u001b[0;34m\u001b[0m\u001b[0m\n\u001b[0m\u001b[1;32m    382\u001b[0m \u001b[0;34m\u001b[0m\u001b[0m\n\u001b[1;32m    383\u001b[0m \u001b[0;34m\u001b[0m\u001b[0m\n",
      "\u001b[0;32m/Users/johnpaton/engl_ish/engl_ish.py\u001b[0m in \u001b[0;36mto_df\u001b[0;34m(self)\u001b[0m\n\u001b[1;32m    207\u001b[0m         \u001b[0;32mfor\u001b[0m \u001b[0mi\u001b[0m\u001b[0;34m,\u001b[0m \u001b[0mfrom_key\u001b[0m \u001b[0;32min\u001b[0m \u001b[0menumerate\u001b[0m\u001b[0;34m(\u001b[0m\u001b[0mfrom_keys\u001b[0m\u001b[0;34m)\u001b[0m\u001b[0;34m:\u001b[0m\u001b[0;34m\u001b[0m\u001b[0m\n\u001b[1;32m    208\u001b[0m             \u001b[0;32mfor\u001b[0m \u001b[0mj\u001b[0m\u001b[0;34m,\u001b[0m \u001b[0mto_key\u001b[0m \u001b[0;32min\u001b[0m \u001b[0menumerate\u001b[0m\u001b[0;34m(\u001b[0m\u001b[0mto_keys\u001b[0m\u001b[0;34m)\u001b[0m\u001b[0;34m:\u001b[0m\u001b[0;34m\u001b[0m\u001b[0m\n\u001b[0;32m--> 209\u001b[0;31m                 \u001b[0mdata\u001b[0m\u001b[0;34m[\u001b[0m\u001b[0mi\u001b[0m\u001b[0;34m,\u001b[0m\u001b[0mj\u001b[0m\u001b[0;34m]\u001b[0m \u001b[0;34m=\u001b[0m \u001b[0mself\u001b[0m\u001b[0;34m.\u001b[0m\u001b[0mmodel\u001b[0m\u001b[0;34m[\u001b[0m\u001b[0mi\u001b[0m\u001b[0;34m]\u001b[0m\u001b[0;34m.\u001b[0m\u001b[0mnorm\u001b[0m\u001b[0;34m[\u001b[0m\u001b[0mf\u001b[0m\u001b[0;34m]\u001b[0m\u001b[0;34m\u001b[0m\u001b[0m\n\u001b[0m\u001b[1;32m    210\u001b[0m \u001b[0;34m\u001b[0m\u001b[0m\n\u001b[1;32m    211\u001b[0m         \u001b[0;32mreturn\u001b[0m \u001b[0mpd\u001b[0m\u001b[0;34m.\u001b[0m\u001b[0mDataFrame\u001b[0m\u001b[0;34m(\u001b[0m\u001b[0mdata\u001b[0m\u001b[0;34m,\u001b[0m \u001b[0mcolumns\u001b[0m \u001b[0;34m=\u001b[0m \u001b[0mto_keys\u001b[0m\u001b[0;34m,\u001b[0m \u001b[0mindex\u001b[0m \u001b[0;34m=\u001b[0m \u001b[0mfrom_keys\u001b[0m\u001b[0;34m)\u001b[0m\u001b[0;34m\u001b[0m\u001b[0m\n",
      "\u001b[0;31mKeyError\u001b[0m: 0"
     ]
    }
   ],
   "source": [
    "df1 = lm.to_df(1)\n",
    "df2 = lm.to_df(2)"
   ]
  },
  {
   "cell_type": "code",
   "execution_count": null,
   "metadata": {
    "collapsed": false
   },
   "outputs": [],
   "source": [
    "df1"
   ]
  },
  {
   "cell_type": "code",
   "execution_count": null,
   "metadata": {
    "collapsed": true
   },
   "outputs": [],
   "source": [
    "import seaborn as sns\n",
    "import matplotlib.pyplot as plt\n",
    "%matplotlib inline\n",
    "sns.set(font_scale=2)\n",
    "\n",
    "def heatmap(df, size=(8,6), title='', **kwargs):\n",
    "    fig, ax = plt.subplots(figsize=size)\n",
    "    ax = sns.heatmap(df, linecolor='k', **kwargs, ax=ax,square=True)\n",
    "    ax.xaxis.set_ticks_position('top'); ax.xaxis.set_label_position('top')\n",
    "    plt.yticks(rotation=0) \n",
    "    if title:\n",
    "        ax.set_title(title+'\\n\\n')\n",
    "    ax.set_ylabel('From'); ax.set_xlabel('To'); plt.yticks(rotation=0) "
   ]
  },
  {
   "cell_type": "code",
   "execution_count": null,
   "metadata": {
    "collapsed": false,
    "scrolled": true
   },
   "outputs": [],
   "source": [
    "alphabet = list('abcdefghijklmnopqrstuvwxyz')\n",
    "df = df1#[alphabet]\n",
    "alph_inds = [set(i) <= set(alphabet) for i in df.index]\n",
    "#df = df.loc[alph_inds]\n",
    "\n",
    "heatmap(df,size=(12,12),linewidth=0)"
   ]
  },
  {
   "cell_type": "code",
   "execution_count": null,
   "metadata": {
    "collapsed": false,
    "scrolled": false
   },
   "outputs": [],
   "source": [
    "# import time; from IPython import display\n",
    "# for i in range(12):\n",
    "#     heatmap(np.linalg.matrix_power(df,i+1), title='After {} steps'.format(i+1), \n",
    "#             xticklabels=list(df.columns)) #yticklabels=list(df.index), linewidth=0.1, vmin=0)\n",
    "#     display.clear_output(wait=True); display.display(plt.show())\n",
    "#     time.sleep(5/(i/2+1)**2)"
   ]
  },
  {
   "cell_type": "code",
   "execution_count": null,
   "metadata": {
    "collapsed": true
   },
   "outputs": [],
   "source": [
    "from collections import Counter"
   ]
  },
  {
   "cell_type": "code",
   "execution_count": null,
   "metadata": {
    "collapsed": false
   },
   "outputs": [],
   "source": [
    "c = Counter()\n",
    "d = {}\n",
    "\n",
    "count = 10000\n",
    "keys = []\n",
    "for i in range(count):\n",
    "    keys.append(np.random.choice(list('abcdefghijklmnopqrstuvwxyz')))\n",
    "\n",
    "def cupdate(c, keys):\n",
    "    for k in keys:\n",
    "        c.update(k)\n",
    "    \n",
    "    return d\n",
    "\n",
    "def dupdate(d, keys):\n",
    "    for k in keys:\n",
    "        if k in d:\n",
    "            d[k]+=1\n",
    "        else:\n",
    "            d[k]=1\n",
    "    \n",
    "    return d\n"
   ]
  },
  {
   "cell_type": "code",
   "execution_count": null,
   "metadata": {
    "collapsed": false
   },
   "outputs": [],
   "source": [
    "%timeit cupdate(c, keys)\n",
    "%timeit dupdate(d, keys)"
   ]
  },
  {
   "cell_type": "code",
   "execution_count": null,
   "metadata": {
    "collapsed": false
   },
   "outputs": [
    {
     "name": "stdout",
     "output_type": "stream",
     "text": [
      "dutch\n",
      "building model\n",
      "Training progress: 0 percent\n",
      "Training progress: 10 percent\n",
      "Training progress: 20 percent\n",
      "Training progress: 30 percent\n",
      "Training progress: 40 percent\n",
      "Training progress: 50 percent\n",
      "Training progress: 60 percent\n",
      "Training progress: 70 percent\n",
      "Training progress: 80 percent\n",
      "Training progress: 90 percent\n",
      "Training progress: 100 percent\n",
      "english\n",
      "building model\n",
      "Training progress: 0 percent\n",
      "Training progress: 10 percent\n",
      "Training progress: 20 percent\n",
      "Training progress: 30 percent\n",
      "Training progress: 40 percent\n",
      "Training progress: 50 percent\n",
      "Training progress: 60 percent\n",
      "Training progress: 70 percent\n",
      "Training progress: 80 percent\n"
     ]
    }
   ],
   "source": [
    "source_files = ['dutch_newspaper_16036_source.pickle', 'english_newspaper_24647_source.pickle', \n",
    "                'finnish_newspaper_1529_source.pickle', 'german_newspaper_42919_source.pickle',\n",
    "                'italian_newspaper_14063_source.pickle', 'swedish_newspaper_29446_source.pickle']\n",
    "languages = ['dutch','english','finnish','german','italian','swedish']\n",
    "\n",
    "sources = {}\n",
    "models = {}\n",
    "for i, l in enumerate(languages):\n",
    "    print(l)\n",
    "    sources[l] = el.load_source(source_files[i])\n",
    "    models[l] = el.train_pickle_model(sources[l], l, 7)"
   ]
  },
  {
   "cell_type": "code",
   "execution_count": null,
   "metadata": {
    "collapsed": false
   },
   "outputs": [],
   "source": [
    "i"
   ]
  },
  {
   "cell_type": "code",
   "execution_count": null,
   "metadata": {
    "collapsed": true
   },
   "outputs": [],
   "source": []
  },
  {
   "cell_type": "code",
   "execution_count": null,
   "metadata": {
    "collapsed": true
   },
   "outputs": [],
   "source": []
  },
  {
   "cell_type": "code",
   "execution_count": null,
   "metadata": {
    "collapsed": true
   },
   "outputs": [],
   "source": []
  },
  {
   "cell_type": "code",
   "execution_count": null,
   "metadata": {
    "collapsed": true
   },
   "outputs": [],
   "source": []
  }
 ],
 "metadata": {
  "kernelspec": {
   "display_name": "Python 3",
   "language": "python",
   "name": "python3"
  },
  "language_info": {
   "codemirror_mode": {
    "name": "ipython",
    "version": 3
   },
   "file_extension": ".py",
   "mimetype": "text/x-python",
   "name": "python",
   "nbconvert_exporter": "python",
   "pygments_lexer": "ipython3",
   "version": "3.6.0"
  }
 },
 "nbformat": 4,
 "nbformat_minor": 2
}
